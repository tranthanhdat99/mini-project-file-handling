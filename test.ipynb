{
 "cells": [
  {
   "cell_type": "code",
   "execution_count": 2,
   "metadata": {},
   "outputs": [],
   "source": [
    "from io import TextIOWrapper as tiw"
   ]
  },
  {
   "cell_type": "code",
   "execution_count": 31,
   "metadata": {},
   "outputs": [
    {
     "name": "stdout",
     "output_type": "stream",
     "text": [
      "1,2,3,4,5\n",
      "a,b,c,d,e\n",
      "am,cd, terminal\n",
      "Can I use these random paragraphs for my project?\n",
      "Yes! All of the random paragraphs in our generator are free to use for your projects.\n",
      "// =========\n",
      "\n",
      "Can I contribute random paragraphs?\n",
      "Yes. We're always interested in improving this generator and one of the best ways to do that is to add new and interesting paragraphs to the generator. If you'd like to contribute some random paragraphs, please contact us.\n",
      "\n"
     ]
    }
   ],
   "source": [
    "from io import TextIOWrapper as tiw\n",
    "\n",
    "def open_file(file_path: str):\n",
    "    # Open file in read and write mode\n",
    "    file_operator = open(file_path, 'r+')\n",
    "    return file_operator\n",
    "\n",
    "def write_to_file(file_operator: tiw, text: str, line: int):\n",
    "    # Move cursor to the start and read all lines\n",
    "    file_operator.seek(0)\n",
    "    lines = file_operator.readlines()\n",
    "\n",
    "    # Convert line number to zero-based index\n",
    "    index = line - 1\n",
    "\n",
    "    # Check if the index is within the range of current lines\n",
    "    if index < len(lines):\n",
    "        lines[index] = text + '\\n'\n",
    "    else:\n",
    "        # Add empty lines until it meets the index\n",
    "        while len(lines) <= index:\n",
    "            lines.append('')\n",
    "        lines[index] = text + '\\n'\n",
    "\n",
    "    # Move cursor to the start of the file and truncate all data\n",
    "    file_operator.seek(0)\n",
    "    file_operator.truncate()\n",
    "\n",
    "    # Write the updated lines back to the file\n",
    "    file_operator.writelines(lines)\n",
    "    \n",
    "    return file_operator\n",
    "\n",
    "def print_file(file_operator: tiw):\n",
    "    # Move cursor to the start and read the content\n",
    "    file_operator.seek(0)\n",
    "    content = file_operator.read()\n",
    "    print(content)\n",
    "\n",
    "txt_file = open_file('start.txt')\n",
    "txt_file = write_to_file(txt_file, '1,2,3,4,5',1)\n",
    "txt_file = write_to_file(txt_file, 'a,b,c,d,e',2)\n",
    "txt_file = write_to_file(txt_file, 'am,cd, terminal',3)\n",
    "txt_file = write_to_file(txt_file, 'Can I use these random paragraphs for my project?',4)\n",
    "txt_file = write_to_file(txt_file, 'Yes! All of the random paragraphs in our generator are free to use for your projects.',5)\n",
    "txt_file = write_to_file(txt_file, '// =========',6)\n",
    "txt_file = write_to_file(txt_file, '',7)\n",
    "txt_file = write_to_file(txt_file, 'Can I contribute random paragraphs?',8)\n",
    "txt_file = write_to_file(txt_file, 'Yes. We\\'re always interested in improving this generator and one of the best ways to do that is to add new and interesting paragraphs to the generator. If you\\'d like to contribute some random paragraphs, please contact us.',9)\n",
    "\n",
    "print_file(txt_file)\n"
   ]
  },
  {
   "cell_type": "code",
   "execution_count": null,
   "metadata": {},
   "outputs": [],
   "source": []
  }
 ],
 "metadata": {
  "kernelspec": {
   "display_name": "Python 3",
   "language": "python",
   "name": "python3"
  },
  "language_info": {
   "codemirror_mode": {
    "name": "ipython",
    "version": 3
   },
   "file_extension": ".py",
   "mimetype": "text/x-python",
   "name": "python",
   "nbconvert_exporter": "python",
   "pygments_lexer": "ipython3",
   "version": "3.10.12"
  }
 },
 "nbformat": 4,
 "nbformat_minor": 2
}
