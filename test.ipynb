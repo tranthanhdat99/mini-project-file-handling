{
 "cells": [
  {
   "cell_type": "code",
   "execution_count": 2,
   "metadata": {},
   "outputs": [],
   "source": [
    "from io import TextIOWrapper as tiw"
   ]
  },
  {
   "cell_type": "code",
   "execution_count": 9,
   "metadata": {},
   "outputs": [
    {
     "name": "stdout",
     "output_type": "stream",
     "text": [
      "1,2,3,4,5\n",
      "a,b,c,d,e\n",
      "am,cd, terminal\n",
      "\n",
      "// =========\n",
      "\n",
      "\n",
      "\n"
     ]
    }
   ],
   "source": [
    "from io import TextIOWrapper as tiw\n",
    "\n",
    "def open_file(file_path: str):\n",
    "    with open(file_path) as file:\n",
    "        file_text = tiw.read(file)\n",
    "        print(file_text)\n",
    "    pass\n",
    "\n",
    "def write_to_file(file_operator: TextIOWrapper, text: str, line: int):\n",
    "#    # TODO\n",
    "#    # Fill here\n",
    "#    pass\n",
    "\n",
    "#def print_file(file_operator: TextIOWrapper):\n",
    "#    # TODO\n",
    "#    # Fill here\n",
    "#    pass\"\"\"\n",
    "open_file('/home/dat/mini-project-python/FileHandling-main/start.txt')\n"
   ]
  },
  {
   "cell_type": "code",
   "execution_count": null,
   "metadata": {},
   "outputs": [],
   "source": []
  }
 ],
 "metadata": {
  "kernelspec": {
   "display_name": "Python 3",
   "language": "python",
   "name": "python3"
  },
  "language_info": {
   "codemirror_mode": {
    "name": "ipython",
    "version": 3
   },
   "file_extension": ".py",
   "mimetype": "text/x-python",
   "name": "python",
   "nbconvert_exporter": "python",
   "pygments_lexer": "ipython3",
   "version": "3.10.12"
  }
 },
 "nbformat": 4,
 "nbformat_minor": 2
}
